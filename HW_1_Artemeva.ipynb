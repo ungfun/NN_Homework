{
 "cells": [
  {
   "cell_type": "markdown",
   "metadata": {
    "toc": true
   },
   "source": [
    "<h1>Table of Contents<span class=\"tocSkip\"></span></h1>\n",
    "<div class=\"toc\"><ul class=\"toc-item\"><li><span><a href=\"#-Homework-1-(Topics-1-4:-Data-Structures,-Indexing,-Cleaning-Data,-Math)\" data-toc-modified-id=\"-Homework-1-(Topics-1-4:-Data-Structures,-Indexing,-Cleaning-Data,-Math)-1\"><span class=\"toc-item-num\">1&nbsp;&nbsp;</span><center> Homework 1 (Topics 1-4: Data Structures, Indexing, Cleaning Data, Math)</center></a></span><ul class=\"toc-item\"><li><ul class=\"toc-item\"><li><ul class=\"toc-item\"><li><span><a href=\"#Task-1.\" data-toc-modified-id=\"Task-1.-1.0.0.1\"><span class=\"toc-item-num\">1.0.0.1&nbsp;&nbsp;</span>Task 1.</a></span></li><li><span><a href=\"#Варианты-ответов:\" data-toc-modified-id=\"Варианты-ответов:-1.0.0.2\"><span class=\"toc-item-num\">1.0.0.2&nbsp;&nbsp;</span>Варианты ответов:</a></span></li><li><span><a href=\"#Task-2.\" data-toc-modified-id=\"Task-2.-1.0.0.3\"><span class=\"toc-item-num\">1.0.0.3&nbsp;&nbsp;</span>Task 2.</a></span></li><li><span><a href=\"#Вопросы:\" data-toc-modified-id=\"Вопросы:-1.0.0.4\"><span class=\"toc-item-num\">1.0.0.4&nbsp;&nbsp;</span>Вопросы:</a></span></li><li><span><a href=\"#Task-3.\" data-toc-modified-id=\"Task-3.-1.0.0.5\"><span class=\"toc-item-num\">1.0.0.5&nbsp;&nbsp;</span>Task 3.</a></span></li><li><span><a href=\"#Выберите-все-верные-пункты:\" data-toc-modified-id=\"Выберите-все-верные-пункты:-1.0.0.6\"><span class=\"toc-item-num\">1.0.0.6&nbsp;&nbsp;</span>Выберите все верные пункты:</a></span></li><li><span><a href=\"#Task-4.\" data-toc-modified-id=\"Task-4.-1.0.0.7\"><span class=\"toc-item-num\">1.0.0.7&nbsp;&nbsp;</span>Task 4.</a></span></li><li><span><a href=\"#Пояснения:\" data-toc-modified-id=\"Пояснения:-1.0.0.8\"><span class=\"toc-item-num\">1.0.0.8&nbsp;&nbsp;</span>Пояснения:</a></span></li></ul></li><li><span><a href=\"#Информация-для-последующих-заданий\" data-toc-modified-id=\"Информация-для-последующих-заданий-1.0.1\"><span class=\"toc-item-num\">1.0.1&nbsp;&nbsp;</span>Информация для последующих заданий</a></span></li></ul></li><li><span><a href=\"#Описание-данных\" data-toc-modified-id=\"Описание-данных-1.1\"><span class=\"toc-item-num\">1.1&nbsp;&nbsp;</span>Описание данных</a></span><ul class=\"toc-item\"><li><span><a href=\"#Таблица-transactions.csv\" data-toc-modified-id=\"Таблица-transactions.csv-1.1.1\"><span class=\"toc-item-num\">1.1.1&nbsp;&nbsp;</span>Таблица <code>transactions.csv</code></a></span></li><li><span><a href=\"#Таблица-gender_train.csv\" data-toc-modified-id=\"Таблица-gender_train.csv-1.1.2\"><span class=\"toc-item-num\">1.1.2&nbsp;&nbsp;</span>Таблица <code>gender_train.csv</code></a></span></li><li><span><a href=\"#Таблица-tr_mcc_codes.csv\" data-toc-modified-id=\"Таблица-tr_mcc_codes.csv-1.1.3\"><span class=\"toc-item-num\">1.1.3&nbsp;&nbsp;</span>Таблица <code>tr_mcc_codes.csv</code></a></span></li><li><span><a href=\"#Таблица-tr_types.csv\" data-toc-modified-id=\"Таблица-tr_types.csv-1.1.4\"><span class=\"toc-item-num\">1.1.4&nbsp;&nbsp;</span>Таблица <code>tr_types.csv</code></a></span><ul class=\"toc-item\"><li><span><a href=\"#Task-5.\" data-toc-modified-id=\"Task-5.-1.1.4.1\"><span class=\"toc-item-num\">1.1.4.1&nbsp;&nbsp;</span>Task 5.</a></span></li><li><span><a href=\"#Task-6.\" data-toc-modified-id=\"Task-6.-1.1.4.2\"><span class=\"toc-item-num\">1.1.4.2&nbsp;&nbsp;</span>Task 6.</a></span></li><li><span><a href=\"#Выберите-все-верные-пункты:\" data-toc-modified-id=\"Выберите-все-верные-пункты:-1.1.4.3\"><span class=\"toc-item-num\">1.1.4.3&nbsp;&nbsp;</span>Выберите все верные пункты:</a></span></li><li><span><a href=\"#Task-7.\" data-toc-modified-id=\"Task-7.-1.1.4.4\"><span class=\"toc-item-num\">1.1.4.4&nbsp;&nbsp;</span>Task 7.</a></span></li><li><span><a href=\"#Выберите-все-верные-пункты:\" data-toc-modified-id=\"Выберите-все-верные-пункты:-1.1.4.5\"><span class=\"toc-item-num\">1.1.4.5&nbsp;&nbsp;</span>Выберите все верные пункты:</a></span></li><li><span><a href=\"#Task-8.\" data-toc-modified-id=\"Task-8.-1.1.4.6\"><span class=\"toc-item-num\">1.1.4.6&nbsp;&nbsp;</span>Task 8.</a></span></li></ul></li></ul></li></ul></li></ul></div>"
   ]
  },
  {
   "cell_type": "markdown",
   "metadata": {},
   "source": [
    "# <center> Homework 1 (Topics 1-4: Data Structures, Indexing, Cleaning Data, Math)"
   ]
  },
  {
   "cell_type": "code",
   "execution_count": 29,
   "metadata": {
    "ExecuteTime": {
     "end_time": "2020-12-12T12:37:17.715822Z",
     "start_time": "2020-12-12T12:37:14.243600Z"
    }
   },
   "outputs": [],
   "source": [
    "import pandas as pd\n",
    "import numpy as np"
   ]
  },
  {
   "cell_type": "markdown",
   "metadata": {},
   "source": [
    "#### Task 1. \n",
    "Задание:\n",
    "\n",
    "1. Создайте Series из последовательности 15 значений, равномерно разбивающих отрезок [0, 20] (воспользуйтесь функцией linspace)\n",
    "2. Определите отношение элементов полученной серии к их предыдущим элементам (\\*). \n",
    "3. В результате необходимо получить среднее полученного вектора, оставив в нём только те значения, которые не более чем 1.5 (\\**). \n",
    "\n",
    "Выберите из ответов тот, который максимально близок к полученному (c точки зрения абсолютной разницы).\n",
    "\n",
    "#### Варианты ответов:\n",
    "    - 1) 1.24\n",
    "    - 2) 1.18 \n",
    "    - 3) 0.71\n",
    "    - 4) 1.13\n",
    "\n",
    "\n",
    "##### Пояснения:\n",
    "(\\*) Если было бы необходимо найти последовательность из 3-х значений,  \n",
    "равномерно разбивающих отрезок [0,1], то это были бы значения [0, 0.5, 1]. \n",
    "\n",
    "(\\**) Если был бы дан список элементов a = [1,2,3,12], отношения элементов к предыдущим будут равны [NaN, 2, 1.5, 4].  \n",
    "А на последнем этапе в таком примере останется только [1.5] и среднее значение будет также 1.5."
   ]
  },
  {
   "cell_type": "code",
   "execution_count": 30,
   "metadata": {
    "ExecuteTime": {
     "end_time": "2020-12-12T12:37:17.751738Z",
     "start_time": "2020-12-12T12:37:17.732765Z"
    }
   },
   "outputs": [
    {
     "name": "stderr",
     "output_type": "stream",
     "text": [
      "<ipython-input-30-f46f7e5cd518>:3: RuntimeWarning: divide by zero encountered in double_scalars\n",
      "  b = [e/a[i] for i, e in enumerate(a[1:])]\n"
     ]
    },
    {
     "data": {
      "text/plain": [
       "1.181677812927813"
      ]
     },
     "execution_count": 30,
     "metadata": {},
     "output_type": "execute_result"
    }
   ],
   "source": [
    "### Type your code here\n",
    "a = pd.Series(np.linspace(0, 20, 15))\n",
    "b = [e/a[i] for i, e in enumerate(a[1:])]\n",
    "c = np.mean([e for e in b if e <= 1.5])\n",
    "c"
   ]
  },
  {
   "cell_type": "markdown",
   "metadata": {},
   "source": [
    "Ответ: 2"
   ]
  },
  {
   "cell_type": "markdown",
   "metadata": {},
   "source": [
    "#### Task 2. \n",
    "Выберите все верные ответы касательно следующих 3-х Series:\n",
    "    - pd.Series('abcde'); (1) \n",
    "    - pd.Series(['abcde']); (2) \n",
    "    - pd.Series(list('abcde')); (3)\n",
    "    - pd.Series(\"abcde\"); (4)\n",
    "    \n",
    "##### Пояснения:\n",
    "(\\*)\n",
    "- функция list: в строке каждый символ - это отдельный элемент для list\n",
    "- квадратные скобки: в квадратных скобках списку передается множество элементов по отдельности через запятую\n",
    "\n",
    "\n",
    "#### Вопросы:\n",
    "    - 1) Серия (1) совпадает с серией (2), так как в каждом из случаев серия создаётся из списка строк\n",
    "    - 2) Серия (2) совпадает с серией (3), так как в каждом из случаев серия создаётся из списка символов \n",
    "    - 3) Серия (1) не совпадает с серией (4), так как в (4) используются двойные кавычки \"\" вместо одинарных '' "
   ]
  },
  {
   "cell_type": "markdown",
   "metadata": {
    "ExecuteTime": {
     "end_time": "2020-12-09T16:55:47.647011Z",
     "start_time": "2020-12-09T16:55:47.643994Z"
    }
   },
   "source": [
    "Ответ: 1"
   ]
  },
  {
   "cell_type": "markdown",
   "metadata": {},
   "source": [
    "#### Task 3. \n",
    "\n",
    "По клиенту получены зашумленные данные (объект s типа Series) по его транзакциям. \n",
    "\n",
    "Для заданного ниже объекта s проделайте следующее:\n",
    "1. Создайте новый Series, значения которого совпадают со значениями s, а индексы - целочисленные значения от 2 до 12, не включая 12. \n",
    "2. Выберите из s элементы с индексами 3 и 5, после чего просуммируйте их, сохранив результат (1). \n",
    "3. Выберите из s только целочисленные элементы и вычислите их дисперсию (2). (\\*)\n",
    "\n",
    "Все полученные результаты округлите до 2-х знаков после запятой.\n",
    "\n",
    "#### Выберите все верные пункты:\n",
    "    - 1) Ответ (1) - 642.52\n",
    "    - 2) Ответ (1) - 91.78\n",
    "    - 3) Ответ (1) - не может быть определён\n",
    "    - 4) Ответ (2) - 57591.19\n",
    "    - 5) Ответ (2) - 210.12\n",
    "    - 6) Ответ (2) - не может быть определён\n",
    "\n",
    "##### Пояснения:\n",
    "(\\*) Целочисленные значения - значения, имеющие тип int.\n",
    "- Дисперсия рассчитывается с помощью функции из библиотеки numpy: np.var( , ddof=0) или встроенной в python функции: .var(ddof=1)"
   ]
  },
  {
   "cell_type": "code",
   "execution_count": 31,
   "metadata": {
    "ExecuteTime": {
     "end_time": "2020-12-12T12:37:40.160544Z",
     "start_time": "2020-12-12T12:37:40.155558Z"
    }
   },
   "outputs": [],
   "source": [
    "s = pd.Series(data=['1', 2, 3.1, 'hi!', 5, -512, 12.42, 'my_name', 10.10, 98], \n",
    "              index=range(6, 26, 2))\n",
    "### Type your code here\n",
    "new_s = pd.Series(s)\n",
    "new_s.index = range(2, 12, 1)"
   ]
  },
  {
   "cell_type": "code",
   "execution_count": 32,
   "metadata": {
    "ExecuteTime": {
     "end_time": "2020-12-12T12:37:40.915373Z",
     "start_time": "2020-12-12T12:37:40.909357Z"
    }
   },
   "outputs": [
    {
     "data": {
      "text/plain": [
       "57591.19"
      ]
     },
     "execution_count": 32,
     "metadata": {},
     "output_type": "execute_result"
    }
   ],
   "source": [
    "disp = round(np.var(new_s[new_s.apply(type) == int]), 2)\n",
    "disp"
   ]
  },
  {
   "cell_type": "markdown",
   "metadata": {},
   "source": [
    "Ответ: 3, 4"
   ]
  },
  {
   "cell_type": "markdown",
   "metadata": {},
   "source": [
    "#### Task 4. \n",
    "1. Сгенерируйте Series из 100 значений нормально распределённой СВ (np.random.normal с дефолтными параметрами - нулевым средним и единичной дисперсией).\n",
    "2. Возведите каждое значение серии в 3 степень, а значения индекса увеличьте в 3 раза. \n",
    "3. Ответьте на следующие вопросы через запятую (без пробелов) (\\*)\n",
    "    - 1) Выведите сумму элементов, строго меньших 2.6, имеющих нечётные значения индекса. \n",
    "    - 2) Выведите количество значений серии меньше нуля.\n",
    "\n",
    "#### Пояснения:\n",
    "(\\*) Если получились ответы 3, 4.32, то в форму необходимо внести их в виде \"3,4.32\". То есть вещественные числа необходимо разделять точками. Не забудьте про фиксированный seed (его менять не нужно)!\n",
    " - Определенное значение seed нужно, чтобы ответы у всех выполняющих\n",
    "это задание были одинаковые и их можно было проверить (так как генерируются\n",
    "одинаковые series).\n",
    " - Следует внимательнее использовать [ ] для выбора данных по нескольким условиям:\n",
    "либо выбирать данные последовательно, либо сразу по нескольким условиям,\n",
    "но через оператор &. Отличие оператора and от оператора &: and - выводит\n",
    "последнее проверенное значение, & - выводит пересечение значений.\n",
    "Пример: s[ _  &  _ ].sum() "
   ]
  },
  {
   "cell_type": "code",
   "execution_count": 33,
   "metadata": {
    "ExecuteTime": {
     "end_time": "2020-12-12T12:37:44.937089Z",
     "start_time": "2020-12-12T12:37:44.928097Z"
    }
   },
   "outputs": [
    {
     "data": {
      "text/plain": [
       "-15.15"
      ]
     },
     "execution_count": 33,
     "metadata": {},
     "output_type": "execute_result"
    }
   ],
   "source": [
    "np.random.seed(242)\n",
    "### Type your code here\n",
    "a = pd.Series(np.random.normal(0, 1, 100))\n",
    "a = a**3\n",
    "a.index = 3*a.index\n",
    "round(a[(a < 2.6) & (a.index % 2 == 1)].sum(), 2)"
   ]
  },
  {
   "cell_type": "code",
   "execution_count": 34,
   "metadata": {
    "ExecuteTime": {
     "end_time": "2020-12-12T12:37:45.482424Z",
     "start_time": "2020-12-12T12:37:45.476440Z"
    }
   },
   "outputs": [
    {
     "data": {
      "text/plain": [
       "51"
      ]
     },
     "execution_count": 34,
     "metadata": {},
     "output_type": "execute_result"
    }
   ],
   "source": [
    "a[a < 0].count()"
   ]
  },
  {
   "cell_type": "markdown",
   "metadata": {},
   "source": [
    "-15.15,51"
   ]
  },
  {
   "cell_type": "markdown",
   "metadata": {},
   "source": [
    "### Информация для последующих заданий\n",
    "- Для всех последующих заданий будем использовать обезличенные транзакционные банковские данные. Для этого считайте в переменные tr_mcc_codes, tr_types, transactions и gender_train из одноимённых таблиц из папки data. Для таблицы transactions используйте только первые n=1000000 строк. Обратите внимание на разделители внутри каждого из файлов - они могут различаться!"
   ]
  },
  {
   "cell_type": "code",
   "execution_count": 35,
   "metadata": {
    "ExecuteTime": {
     "end_time": "2020-12-12T12:37:50.920166Z",
     "start_time": "2020-12-12T12:37:49.854457Z"
    }
   },
   "outputs": [
    {
     "ename": "FileNotFoundError",
     "evalue": "[Errno 2] File data/tr_mcc_codes.csv does not exist: 'data/tr_mcc_codes.csv'",
     "output_type": "error",
     "traceback": [
      "\u001b[0;31m---------------------------------------------------------------------------\u001b[0m",
      "\u001b[0;31mFileNotFoundError\u001b[0m                         Traceback (most recent call last)",
      "\u001b[0;32m<ipython-input-35-14e457f730c3>\u001b[0m in \u001b[0;36m<module>\u001b[0;34m\u001b[0m\n\u001b[1;32m      1\u001b[0m \u001b[0;31m### Type your code here\u001b[0m\u001b[0;34m\u001b[0m\u001b[0;34m\u001b[0m\u001b[0;34m\u001b[0m\u001b[0m\n\u001b[0;32m----> 2\u001b[0;31m \u001b[0mtr_mcc_codes\u001b[0m \u001b[0;34m=\u001b[0m \u001b[0mpd\u001b[0m\u001b[0;34m.\u001b[0m\u001b[0mread_csv\u001b[0m\u001b[0;34m(\u001b[0m\u001b[0;34m'data/tr_mcc_codes.csv'\u001b[0m\u001b[0;34m,\u001b[0m \u001b[0msep\u001b[0m\u001b[0;34m=\u001b[0m\u001b[0;34m';'\u001b[0m\u001b[0;34m)\u001b[0m\u001b[0;34m\u001b[0m\u001b[0;34m\u001b[0m\u001b[0m\n\u001b[0m\u001b[1;32m      3\u001b[0m \u001b[0mtr_types\u001b[0m \u001b[0;34m=\u001b[0m \u001b[0mpd\u001b[0m\u001b[0;34m.\u001b[0m\u001b[0mread_csv\u001b[0m\u001b[0;34m(\u001b[0m\u001b[0;34m'data/tr_types.csv'\u001b[0m\u001b[0;34m,\u001b[0m \u001b[0msep\u001b[0m\u001b[0;34m=\u001b[0m\u001b[0;34m';'\u001b[0m\u001b[0;34m)\u001b[0m\u001b[0;34m\u001b[0m\u001b[0;34m\u001b[0m\u001b[0m\n\u001b[1;32m      4\u001b[0m \u001b[0mtransactions\u001b[0m \u001b[0;34m=\u001b[0m \u001b[0mpd\u001b[0m\u001b[0;34m.\u001b[0m\u001b[0mread_csv\u001b[0m\u001b[0;34m(\u001b[0m\u001b[0;34m'data/transactions.csv'\u001b[0m\u001b[0;34m,\u001b[0m \u001b[0mnrows\u001b[0m\u001b[0;34m=\u001b[0m\u001b[0;36m1000000\u001b[0m\u001b[0;34m)\u001b[0m\u001b[0;34m\u001b[0m\u001b[0;34m\u001b[0m\u001b[0m\n\u001b[1;32m      5\u001b[0m \u001b[0mgender_train\u001b[0m \u001b[0;34m=\u001b[0m \u001b[0mpd\u001b[0m\u001b[0;34m.\u001b[0m\u001b[0mread_csv\u001b[0m\u001b[0;34m(\u001b[0m\u001b[0;34m'data/gender_train.csv'\u001b[0m\u001b[0;34m)\u001b[0m\u001b[0;34m\u001b[0m\u001b[0;34m\u001b[0m\u001b[0m\n",
      "\u001b[0;32m~/opt/anaconda3/lib/python3.8/site-packages/pandas/io/parsers.py\u001b[0m in \u001b[0;36mparser_f\u001b[0;34m(filepath_or_buffer, sep, delimiter, header, names, index_col, usecols, squeeze, prefix, mangle_dupe_cols, dtype, engine, converters, true_values, false_values, skipinitialspace, skiprows, skipfooter, nrows, na_values, keep_default_na, na_filter, verbose, skip_blank_lines, parse_dates, infer_datetime_format, keep_date_col, date_parser, dayfirst, cache_dates, iterator, chunksize, compression, thousands, decimal, lineterminator, quotechar, quoting, doublequote, escapechar, comment, encoding, dialect, error_bad_lines, warn_bad_lines, delim_whitespace, low_memory, memory_map, float_precision)\u001b[0m\n\u001b[1;32m    674\u001b[0m         )\n\u001b[1;32m    675\u001b[0m \u001b[0;34m\u001b[0m\u001b[0m\n\u001b[0;32m--> 676\u001b[0;31m         \u001b[0;32mreturn\u001b[0m \u001b[0m_read\u001b[0m\u001b[0;34m(\u001b[0m\u001b[0mfilepath_or_buffer\u001b[0m\u001b[0;34m,\u001b[0m \u001b[0mkwds\u001b[0m\u001b[0;34m)\u001b[0m\u001b[0;34m\u001b[0m\u001b[0;34m\u001b[0m\u001b[0m\n\u001b[0m\u001b[1;32m    677\u001b[0m \u001b[0;34m\u001b[0m\u001b[0m\n\u001b[1;32m    678\u001b[0m     \u001b[0mparser_f\u001b[0m\u001b[0;34m.\u001b[0m\u001b[0m__name__\u001b[0m \u001b[0;34m=\u001b[0m \u001b[0mname\u001b[0m\u001b[0;34m\u001b[0m\u001b[0;34m\u001b[0m\u001b[0m\n",
      "\u001b[0;32m~/opt/anaconda3/lib/python3.8/site-packages/pandas/io/parsers.py\u001b[0m in \u001b[0;36m_read\u001b[0;34m(filepath_or_buffer, kwds)\u001b[0m\n\u001b[1;32m    446\u001b[0m \u001b[0;34m\u001b[0m\u001b[0m\n\u001b[1;32m    447\u001b[0m     \u001b[0;31m# Create the parser.\u001b[0m\u001b[0;34m\u001b[0m\u001b[0;34m\u001b[0m\u001b[0;34m\u001b[0m\u001b[0m\n\u001b[0;32m--> 448\u001b[0;31m     \u001b[0mparser\u001b[0m \u001b[0;34m=\u001b[0m \u001b[0mTextFileReader\u001b[0m\u001b[0;34m(\u001b[0m\u001b[0mfp_or_buf\u001b[0m\u001b[0;34m,\u001b[0m \u001b[0;34m**\u001b[0m\u001b[0mkwds\u001b[0m\u001b[0;34m)\u001b[0m\u001b[0;34m\u001b[0m\u001b[0;34m\u001b[0m\u001b[0m\n\u001b[0m\u001b[1;32m    449\u001b[0m \u001b[0;34m\u001b[0m\u001b[0m\n\u001b[1;32m    450\u001b[0m     \u001b[0;32mif\u001b[0m \u001b[0mchunksize\u001b[0m \u001b[0;32mor\u001b[0m \u001b[0miterator\u001b[0m\u001b[0;34m:\u001b[0m\u001b[0;34m\u001b[0m\u001b[0;34m\u001b[0m\u001b[0m\n",
      "\u001b[0;32m~/opt/anaconda3/lib/python3.8/site-packages/pandas/io/parsers.py\u001b[0m in \u001b[0;36m__init__\u001b[0;34m(self, f, engine, **kwds)\u001b[0m\n\u001b[1;32m    878\u001b[0m             \u001b[0mself\u001b[0m\u001b[0;34m.\u001b[0m\u001b[0moptions\u001b[0m\u001b[0;34m[\u001b[0m\u001b[0;34m\"has_index_names\"\u001b[0m\u001b[0;34m]\u001b[0m \u001b[0;34m=\u001b[0m \u001b[0mkwds\u001b[0m\u001b[0;34m[\u001b[0m\u001b[0;34m\"has_index_names\"\u001b[0m\u001b[0;34m]\u001b[0m\u001b[0;34m\u001b[0m\u001b[0;34m\u001b[0m\u001b[0m\n\u001b[1;32m    879\u001b[0m \u001b[0;34m\u001b[0m\u001b[0m\n\u001b[0;32m--> 880\u001b[0;31m         \u001b[0mself\u001b[0m\u001b[0;34m.\u001b[0m\u001b[0m_make_engine\u001b[0m\u001b[0;34m(\u001b[0m\u001b[0mself\u001b[0m\u001b[0;34m.\u001b[0m\u001b[0mengine\u001b[0m\u001b[0;34m)\u001b[0m\u001b[0;34m\u001b[0m\u001b[0;34m\u001b[0m\u001b[0m\n\u001b[0m\u001b[1;32m    881\u001b[0m \u001b[0;34m\u001b[0m\u001b[0m\n\u001b[1;32m    882\u001b[0m     \u001b[0;32mdef\u001b[0m \u001b[0mclose\u001b[0m\u001b[0;34m(\u001b[0m\u001b[0mself\u001b[0m\u001b[0;34m)\u001b[0m\u001b[0;34m:\u001b[0m\u001b[0;34m\u001b[0m\u001b[0;34m\u001b[0m\u001b[0m\n",
      "\u001b[0;32m~/opt/anaconda3/lib/python3.8/site-packages/pandas/io/parsers.py\u001b[0m in \u001b[0;36m_make_engine\u001b[0;34m(self, engine)\u001b[0m\n\u001b[1;32m   1112\u001b[0m     \u001b[0;32mdef\u001b[0m \u001b[0m_make_engine\u001b[0m\u001b[0;34m(\u001b[0m\u001b[0mself\u001b[0m\u001b[0;34m,\u001b[0m \u001b[0mengine\u001b[0m\u001b[0;34m=\u001b[0m\u001b[0;34m\"c\"\u001b[0m\u001b[0;34m)\u001b[0m\u001b[0;34m:\u001b[0m\u001b[0;34m\u001b[0m\u001b[0;34m\u001b[0m\u001b[0m\n\u001b[1;32m   1113\u001b[0m         \u001b[0;32mif\u001b[0m \u001b[0mengine\u001b[0m \u001b[0;34m==\u001b[0m \u001b[0;34m\"c\"\u001b[0m\u001b[0;34m:\u001b[0m\u001b[0;34m\u001b[0m\u001b[0;34m\u001b[0m\u001b[0m\n\u001b[0;32m-> 1114\u001b[0;31m             \u001b[0mself\u001b[0m\u001b[0;34m.\u001b[0m\u001b[0m_engine\u001b[0m \u001b[0;34m=\u001b[0m \u001b[0mCParserWrapper\u001b[0m\u001b[0;34m(\u001b[0m\u001b[0mself\u001b[0m\u001b[0;34m.\u001b[0m\u001b[0mf\u001b[0m\u001b[0;34m,\u001b[0m \u001b[0;34m**\u001b[0m\u001b[0mself\u001b[0m\u001b[0;34m.\u001b[0m\u001b[0moptions\u001b[0m\u001b[0;34m)\u001b[0m\u001b[0;34m\u001b[0m\u001b[0;34m\u001b[0m\u001b[0m\n\u001b[0m\u001b[1;32m   1115\u001b[0m         \u001b[0;32melse\u001b[0m\u001b[0;34m:\u001b[0m\u001b[0;34m\u001b[0m\u001b[0;34m\u001b[0m\u001b[0m\n\u001b[1;32m   1116\u001b[0m             \u001b[0;32mif\u001b[0m \u001b[0mengine\u001b[0m \u001b[0;34m==\u001b[0m \u001b[0;34m\"python\"\u001b[0m\u001b[0;34m:\u001b[0m\u001b[0;34m\u001b[0m\u001b[0;34m\u001b[0m\u001b[0m\n",
      "\u001b[0;32m~/opt/anaconda3/lib/python3.8/site-packages/pandas/io/parsers.py\u001b[0m in \u001b[0;36m__init__\u001b[0;34m(self, src, **kwds)\u001b[0m\n\u001b[1;32m   1889\u001b[0m         \u001b[0mkwds\u001b[0m\u001b[0;34m[\u001b[0m\u001b[0;34m\"usecols\"\u001b[0m\u001b[0;34m]\u001b[0m \u001b[0;34m=\u001b[0m \u001b[0mself\u001b[0m\u001b[0;34m.\u001b[0m\u001b[0musecols\u001b[0m\u001b[0;34m\u001b[0m\u001b[0;34m\u001b[0m\u001b[0m\n\u001b[1;32m   1890\u001b[0m \u001b[0;34m\u001b[0m\u001b[0m\n\u001b[0;32m-> 1891\u001b[0;31m         \u001b[0mself\u001b[0m\u001b[0;34m.\u001b[0m\u001b[0m_reader\u001b[0m \u001b[0;34m=\u001b[0m \u001b[0mparsers\u001b[0m\u001b[0;34m.\u001b[0m\u001b[0mTextReader\u001b[0m\u001b[0;34m(\u001b[0m\u001b[0msrc\u001b[0m\u001b[0;34m,\u001b[0m \u001b[0;34m**\u001b[0m\u001b[0mkwds\u001b[0m\u001b[0;34m)\u001b[0m\u001b[0;34m\u001b[0m\u001b[0;34m\u001b[0m\u001b[0m\n\u001b[0m\u001b[1;32m   1892\u001b[0m         \u001b[0mself\u001b[0m\u001b[0;34m.\u001b[0m\u001b[0munnamed_cols\u001b[0m \u001b[0;34m=\u001b[0m \u001b[0mself\u001b[0m\u001b[0;34m.\u001b[0m\u001b[0m_reader\u001b[0m\u001b[0;34m.\u001b[0m\u001b[0munnamed_cols\u001b[0m\u001b[0;34m\u001b[0m\u001b[0;34m\u001b[0m\u001b[0m\n\u001b[1;32m   1893\u001b[0m \u001b[0;34m\u001b[0m\u001b[0m\n",
      "\u001b[0;32mpandas/_libs/parsers.pyx\u001b[0m in \u001b[0;36mpandas._libs.parsers.TextReader.__cinit__\u001b[0;34m()\u001b[0m\n",
      "\u001b[0;32mpandas/_libs/parsers.pyx\u001b[0m in \u001b[0;36mpandas._libs.parsers.TextReader._setup_parser_source\u001b[0;34m()\u001b[0m\n",
      "\u001b[0;31mFileNotFoundError\u001b[0m: [Errno 2] File data/tr_mcc_codes.csv does not exist: 'data/tr_mcc_codes.csv'"
     ]
    }
   ],
   "source": [
    "### Type your code here\n",
    "tr_mcc_codes = pd.read_csv('data/tr_mcc_codes.csv', sep=';')\n",
    "tr_types = pd.read_csv('data/tr_types.csv', sep=';')\n",
    "transactions = pd.read_csv('data/transactions.csv', nrows=1000000)\n",
    "gender_train = pd.read_csv('data/gender_train.csv')"
   ]
  },
  {
   "cell_type": "markdown",
   "metadata": {},
   "source": [
    "## Описание данных\n",
    "### Таблица ```transactions.csv```\n",
    "##### Описание\n",
    "Таблица содержит историю транзакций клиентов банка за один год и три месяца.\n",
    "\n",
    "##### Формат данных\n",
    "\n",
    "```\n",
    "customer_id,tr_datetime,mcc_code,tr_type,amount,term_id\n",
    "111111,15 01:40:52,1111,1000,-5224,111111\n",
    "111112,15 15:18:32,3333,2000,-100,11122233\n",
    "...\n",
    "```\n",
    "##### Описание полей\n",
    "\n",
    " - ```customer_id``` — идентификатор клиента;\n",
    " - ```tr_datetime``` — день и время совершения транзакции (дни нумеруются с начала данных);\n",
    " - ```mcc_code``` — mcc-код транзакции;\n",
    " - ```tr_type``` — тип транзакции;\n",
    " - ```amount``` — сумма транзакции в условных единицах со знаком; ```+``` — начисление средств клиенту (приходная транзакция), ```-``` — списание средств (расходная транзакция);\n",
    " - ```term_id``` — идентификатор терминала;\n",
    "\n",
    "\n",
    "### Таблица ```gender_train.csv```\n",
    "\n",
    "##### Описание\n",
    "Данная таблица содержит информацию по полу для части клиентов, для которых он известен. Для остальных клиентов пол неизвестен.\n",
    "\n",
    "##### Формат данных\n",
    "```\n",
    "customer_id,gender\n",
    "111111,0\n",
    "111112,1\n",
    "...\n",
    "```\n",
    "\n",
    "##### Описание полей\n",
    " - ```customer_id``` — идентификатор клиента;\n",
    " - ```gender``` — пол клиента;\n",
    "\n",
    "### Таблица ```tr_mcc_codes.csv```\n",
    "\n",
    "##### Описание\n",
    "Данная таблица содержит описание mcc-кодов транзакций.\n",
    "\n",
    "##### Формат данных\n",
    "```\n",
    "mcc_code;mcc_description\n",
    "1000;словесное описание mcc-кода 1000\n",
    "2000;словесное описание mcc-кода 2000\n",
    "...\n",
    "```\n",
    "\n",
    "##### Описание полей\n",
    " - ```mcc_code``` – mcc-код транзакции;\n",
    " - ```mcc_description``` — описание mcc-кода транзакции.\n",
    "\n",
    "### Таблица ```tr_types.csv```\n",
    "\n",
    "##### Описание\n",
    "Данная таблица содержит описание типов транзакций.\n",
    "\n",
    "##### Формат данных\n",
    "```\n",
    "tr_type;tr_description\n",
    "1000;словесное описание типа транзакции 1000\n",
    "2000;словесное описание типа транзакции 2000\n",
    "...\n",
    "```\n",
    "\n",
    "##### Описание полей\n",
    " - ```tr_type``` – тип транзакции;\n",
    " - ```tr_description``` — описание типа транзакции;"
   ]
  },
  {
   "cell_type": "markdown",
   "metadata": {},
   "source": [
    "#### Task 5.\n",
    "1. В tr_types выберите произвольные 100 строк с помощью метода sample (указав при этом random_seed равный 242)\n",
    "2. В полученной на предыдущем этапе подвыборке найдите долю наблюдений (стобец tr_description), в которой содержится подстрока 'плата' (в любом регистре). (\\*)\n",
    "\n",
    "Выведите ответ в виде вещественного числа, округлённого до двух знаков после запятой, отделив дробную часть точкой в формате \"123.45\"\n",
    "\n",
    "##### Пояснения:\n",
    "(\\*) Строки \"ПлатА за аренду\", \"ПлатАза аренду\", \"ПЛАТА\" удовлетворяют условию, так как будучи переведёнными в нижний регистр содержат подстроку \"плата\"."
   ]
  },
  {
   "cell_type": "code",
   "execution_count": 22,
   "metadata": {
    "ExecuteTime": {
     "end_time": "2020-12-12T12:37:52.153090Z",
     "start_time": "2020-12-12T12:37:52.143119Z"
    },
    "scrolled": true
   },
   "outputs": [
    {
     "data": {
      "text/plain": [
       "0.26"
      ]
     },
     "execution_count": 22,
     "metadata": {},
     "output_type": "execute_result"
    }
   ],
   "source": [
    "### Type your code \n",
    "np.random.seed(242)\n",
    "tr_types_100 = tr_types.sample(100)\n",
    "tr_types_100[tr_types_100['tr_description'].apply(lambda e: 'плата' in e.lower())].shape[0]/tr_types_100.shape[0]"
   ]
  },
  {
   "cell_type": "markdown",
   "metadata": {},
   "source": [
    "#### Task 6. \n",
    "1. Для поля tr_type датафрейма transactions посчитайте частоту встречаемости всех типов транзакций tr_type в transactions.\n",
    "2. Из перечисленных вариантов выберите те, которые попали в топ-5 транзакций по частоте встречаемости.\n",
    "\n",
    "#### Выберите все верные пункты:\n",
    "    - 1) Выдача наличных в АТМ Сбербанк России\n",
    "    - 2) Комиссия за обслуживание ссудного счета\n",
    "    - 3) Списание по требованию\t\n",
    "    - 4) Оплата услуги. Банкоматы СБ РФ\n",
    "    - 5) Погашение кредита (в пределах одного филиала)\n",
    "    - 6) Покупка. POS ТУ СБ РФ"
   ]
  },
  {
   "cell_type": "code",
   "execution_count": 23,
   "metadata": {
    "ExecuteTime": {
     "end_time": "2020-12-12T12:37:53.684044Z",
     "start_time": "2020-12-12T12:37:53.670082Z"
    }
   },
   "outputs": [
    {
     "data": {
      "text/plain": [
       "1010    231117\n",
       "2010    151166\n",
       "7070    149006\n",
       "1110    137658\n",
       "1030    118975\n",
       "         ...  \n",
       "4061         4\n",
       "4096         4\n",
       "8146         3\n",
       "8100         2\n",
       "1510         2\n",
       "Name: tr_type, Length: 72, dtype: int64"
      ]
     },
     "execution_count": 23,
     "metadata": {},
     "output_type": "execute_result"
    }
   ],
   "source": [
    "### Type your code here\n",
    "transactions['tr_type'].value_counts()"
   ]
  },
  {
   "cell_type": "code",
   "execution_count": 24,
   "metadata": {
    "ExecuteTime": {
     "end_time": "2020-12-12T12:37:55.807192Z",
     "start_time": "2020-12-12T12:37:55.784253Z"
    }
   },
   "outputs": [
    {
     "data": {
      "text/html": [
       "<div>\n",
       "<style scoped>\n",
       "    .dataframe tbody tr th:only-of-type {\n",
       "        vertical-align: middle;\n",
       "    }\n",
       "\n",
       "    .dataframe tbody tr th {\n",
       "        vertical-align: top;\n",
       "    }\n",
       "\n",
       "    .dataframe thead th {\n",
       "        text-align: right;\n",
       "    }\n",
       "</style>\n",
       "<table border=\"1\" class=\"dataframe\">\n",
       "  <thead>\n",
       "    <tr style=\"text-align: right;\">\n",
       "      <th></th>\n",
       "      <th>tr_type</th>\n",
       "      <th>tr_description</th>\n",
       "    </tr>\n",
       "  </thead>\n",
       "  <tbody>\n",
       "    <tr>\n",
       "      <th>59</th>\n",
       "      <td>7070</td>\n",
       "      <td>Перевод на карту (с карты) через Мобильный бан...</td>\n",
       "    </tr>\n",
       "    <tr>\n",
       "      <th>98</th>\n",
       "      <td>1010</td>\n",
       "      <td>Покупка. POS ТУ СБ РФ</td>\n",
       "    </tr>\n",
       "    <tr>\n",
       "      <th>99</th>\n",
       "      <td>1030</td>\n",
       "      <td>Оплата услуги. Банкоматы СБ РФ</td>\n",
       "    </tr>\n",
       "    <tr>\n",
       "      <th>101</th>\n",
       "      <td>1110</td>\n",
       "      <td>Покупка. POS ТУ Россия</td>\n",
       "    </tr>\n",
       "    <tr>\n",
       "      <th>106</th>\n",
       "      <td>2010</td>\n",
       "      <td>Выдача наличных в АТМ Сбербанк России</td>\n",
       "    </tr>\n",
       "  </tbody>\n",
       "</table>\n",
       "</div>"
      ],
      "text/plain": [
       "     tr_type                                     tr_description\n",
       "59      7070  Перевод на карту (с карты) через Мобильный бан...\n",
       "98      1010                              Покупка. POS ТУ СБ РФ\n",
       "99      1030                     Оплата услуги. Банкоматы СБ РФ\n",
       "101     1110                             Покупка. POS ТУ Россия\n",
       "106     2010              Выдача наличных в АТМ Сбербанк России"
      ]
     },
     "execution_count": 24,
     "metadata": {},
     "output_type": "execute_result"
    }
   ],
   "source": [
    "b = transactions['tr_type'].value_counts()[0:5].index\n",
    "tr_types[tr_types['tr_type'].apply(lambda e: e in b)]"
   ]
  },
  {
   "cell_type": "markdown",
   "metadata": {
    "ExecuteTime": {
     "end_time": "2020-12-09T20:45:12.909826Z",
     "start_time": "2020-12-09T20:45:12.898857Z"
    }
   },
   "source": [
    "1, 4, 6"
   ]
  },
  {
   "cell_type": "markdown",
   "metadata": {},
   "source": [
    "#### Task 7.\n",
    "1. В датафрейме transactions задайте столбец  customer_id в качестве индекса.\n",
    "2. Выделите клиента с максимальной суммой транзакции (то есть с максимальным приходом на карту). (\\*)\n",
    "3. Найдите у него наиболее часто встречающийся модуль суммы приходов/расходов. (\\**)\n",
    "\n",
    "\n",
    "#### Выберите все верные пункты:\n",
    "    - 1) 1122957.89\n",
    "    - 2) 15721.41\n",
    "    - 3) 22459.16\n",
    "    - 4) 13475494.63\n",
    "    - 5) 107407.78\n",
    "    - 6) 65019.26\n",
    "\n",
    "##### Пояснения:\n",
    "(\\*) Если у клиента были транзакции [-10000, 10, 0, -10], то максимумом будет являться значение 10. <br>\n",
    "(\\**) Если у клиента были транзакции [-10000, 10, 0, -10], то наиболее встречающийся модуль суммы транзакций равен 10, и встретился он 2 раза."
   ]
  },
  {
   "cell_type": "code",
   "execution_count": 25,
   "metadata": {
    "ExecuteTime": {
     "end_time": "2020-12-12T12:37:59.396747Z",
     "start_time": "2020-12-12T12:37:59.286031Z"
    },
    "scrolled": true
   },
   "outputs": [
    {
     "data": {
      "text/plain": [
       "Int64Index([26782922], dtype='int64', name='customer_id')"
      ]
     },
     "execution_count": 25,
     "metadata": {},
     "output_type": "execute_result"
    }
   ],
   "source": [
    "### Type your code here\n",
    "transactions.index = transactions['customer_id']\n",
    "id = transactions[transactions['amount'] == max(transactions['amount'])].index\n",
    "id"
   ]
  },
  {
   "cell_type": "code",
   "execution_count": 26,
   "metadata": {
    "ExecuteTime": {
     "end_time": "2020-12-12T12:38:00.407326Z",
     "start_time": "2020-12-12T12:38:00.267648Z"
    }
   },
   "outputs": [
    {
     "data": {
      "text/plain": [
       "22459.16"
      ]
     },
     "execution_count": 26,
     "metadata": {},
     "output_type": "execute_result"
    }
   ],
   "source": [
    "transactions.loc[id]['amount'].abs().value_counts().index[0]\n"
   ]
  },
  {
   "cell_type": "code",
   "execution_count": 27,
   "metadata": {
    "ExecuteTime": {
     "end_time": "2020-12-12T12:38:01.318804Z",
     "start_time": "2020-12-12T12:38:01.186158Z"
    }
   },
   "outputs": [
    {
     "data": {
      "text/plain": [
       "25"
      ]
     },
     "execution_count": 27,
     "metadata": {},
     "output_type": "execute_result"
    }
   ],
   "source": [
    "transactions.loc[id]['amount'].abs().value_counts().iloc[0]"
   ]
  },
  {
   "cell_type": "markdown",
   "metadata": {},
   "source": [
    "Ответ: 3"
   ]
  },
  {
   "cell_type": "markdown",
   "metadata": {},
   "source": [
    "#### Task 8.\n",
    "1. Найдите максимальную разницу между медианами суммы транзакций, посчитанными при заданных ниже условиях по полю amount из таблицы transactions (\\*):\n",
    "    - Медиана суммы транзакций\n",
    "    - Медиана суммы транзакций по тем строкам, которые ни в одном из своих столбцов не содержат пустые значения\n",
    "    - Медиана суммы транзакций по строкам, отсортированным по полю amount в порядке возрастания, и из которых удалены дублирующиеся по столбцам [mcc_code, tr_type] строки, причём при удалении соответстующих дублей остаются только последние из дублирующихся строк (keep='last')\n",
    "\n",
    "Выведите ответ в виде вещественного числа, округлённого до двух знаков после запятой, отделив дробную часть точкой в формате \"123.45\"\n",
    "\n",
    "##### Пояснения:\n",
    "(\\*) Для вычисления максимальной разницы между значениями списка можно использовать функцию np.ptp  \n",
    "(\\**) Если в результате получились значения [1,3,5], то макимальная разница между ними 4 == 5-1."
   ]
  },
  {
   "cell_type": "code",
   "execution_count": 28,
   "metadata": {
    "ExecuteTime": {
     "end_time": "2020-12-12T12:38:04.460964Z",
     "start_time": "2020-12-12T12:38:03.858611Z"
    },
    "scrolled": true
   },
   "outputs": [
    {
     "data": {
      "text/plain": [
       "4693.96"
      ]
     },
     "execution_count": 28,
     "metadata": {},
     "output_type": "execute_result"
    }
   ],
   "source": [
    "### Type your code here\n",
    "med_1 = transactions['amount'].median()\n",
    "med_2 = transactions.dropna()['amount'].median()\n",
    "med_3 = transactions.sort_values('amount').drop_duplicates(['mcc_code', 'tr_type'], keep='last')['amount'].median()\n",
    "np.ptp([med_1, med_2, med_3])"
   ]
  },
  {
   "cell_type": "code",
   "execution_count": null,
   "metadata": {},
   "outputs": [],
   "source": []
  },
  {
   "cell_type": "code",
   "execution_count": null,
   "metadata": {},
   "outputs": [],
   "source": []
  },
  {
   "cell_type": "code",
   "execution_count": null,
   "metadata": {},
   "outputs": [],
   "source": []
  },
  {
   "cell_type": "code",
   "execution_count": null,
   "metadata": {},
   "outputs": [],
   "source": []
  },
  {
   "cell_type": "code",
   "execution_count": null,
   "metadata": {},
   "outputs": [],
   "source": []
  },
  {
   "cell_type": "code",
   "execution_count": null,
   "metadata": {},
   "outputs": [],
   "source": []
  }
 ],
 "metadata": {
  "hide_input": false,
  "kernelspec": {
   "display_name": "Python 3",
   "language": "python",
   "name": "python3"
  },
  "language_info": {
   "codemirror_mode": {
    "name": "ipython",
    "version": 3
   },
   "file_extension": ".py",
   "mimetype": "text/x-python",
   "name": "python",
   "nbconvert_exporter": "python",
   "pygments_lexer": "ipython3",
   "version": "3.8.3"
  },
  "toc": {
   "base_numbering": 1,
   "nav_menu": {},
   "number_sections": true,
   "sideBar": true,
   "skip_h1_title": false,
   "title_cell": "Table of Contents",
   "title_sidebar": "Contents",
   "toc_cell": true,
   "toc_position": {},
   "toc_section_display": true,
   "toc_window_display": false
  },
  "varInspector": {
   "cols": {
    "lenName": 16,
    "lenType": 16,
    "lenVar": 40
   },
   "kernels_config": {
    "python": {
     "delete_cmd_postfix": "",
     "delete_cmd_prefix": "del ",
     "library": "var_list.py",
     "varRefreshCmd": "print(var_dic_list())"
    },
    "r": {
     "delete_cmd_postfix": ") ",
     "delete_cmd_prefix": "rm(",
     "library": "var_list.r",
     "varRefreshCmd": "cat(var_dic_list()) "
    }
   },
   "types_to_exclude": [
    "module",
    "function",
    "builtin_function_or_method",
    "instance",
    "_Feature"
   ],
   "window_display": false
  }
 },
 "nbformat": 4,
 "nbformat_minor": 4
}
